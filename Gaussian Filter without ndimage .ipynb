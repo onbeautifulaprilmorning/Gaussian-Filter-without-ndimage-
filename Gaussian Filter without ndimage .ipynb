{
 "cells": [
  {
   "cell_type": "code",
   "execution_count": 5,
   "metadata": {},
   "outputs": [],
   "source": [
    "import numpy as np\n",
    "import matplotlib.pyplot as plt\n",
    "\n",
    "img = plt.imread('C:/Users/image.png')\n",
    "\n",
    "gaussian_filter = (1/16) * np.array([[1,2,1], [2,4,2], [1,2,1]])\n",
    "\n",
    "# np.shape(img) = (275, 183, 4)\n",
    "a = 275\n",
    "b = 183\n",
    "c = 4\n",
    "\n",
    "new_img_mid = np.zeros((a, b, c))\n",
    "new_img_right = np.zeros((a, b, c))\n",
    "new_img_left = np.zeros((a, b, c))\n",
    "new_img_up = np.zeros((a, b, c))\n",
    "new_img_down = np.zeros((a, b, c))\n",
    "\n",
    "#가운데\n",
    "for i in range(1,b-1):\n",
    "    for x in range(1,a-1):\n",
    "        for y in range(0,c):\n",
    "            new_img_mid[x,i,y] = gaussian_filter[0,0] * img[x-1, i-1,y] + gaussian_filter[0,1] * img[x-1,i,y] + gaussian_filter[0,2] * img[x-1,i+1,y] + gaussian_filter[1,0] * img[x, i-1,y] + gaussian_filter[1,1] * img[x,i,y] + gaussian_filter[1,2] * img[x,i+1,y] + gaussian_filter[2,0] * img[x+1, i-1,y] + gaussian_filter[2,1] * img[x+1,i,y] + gaussian_filter[2,2] * img[x+1,i+1,y]\n",
    "# 윗변\n",
    "for i in range(1,b-1):\n",
    "    for x in range(0,c):\n",
    "        new_img_up[0,i,x] = gaussian_filter[1,0] * img[0,i-1,x] + gaussian_filter[1,1] * img[0,i,x] + gaussian_filter[1,2] * img[0,i+1,x] + gaussian_filter [2,0] * img[1,i-1,x] + gaussian_filter[2,1] * img[1,i,x] + gaussian_filter[2,2] * img[1,i+1,x]\n",
    "#아랫변\n",
    "for i in range(1,b-1):\n",
    "    for x in range(0,c):\n",
    "        new_img_down[a-1,i,x] = gaussian_filter[0,0] * img[a-2, i-1,x] + gaussian_filter[0,1] * img[a-2, i,x] + gaussian_filter[0,2] * img[a-2, i+1,x] + gaussian_filter[1,0] * img[a-1,i-1,x] + gaussian_filter[1,1] * img[a-1,i,x] + gaussian_filter[1,2] * img[a-1,i+1,x]\n",
    "#왼변        \n",
    "for i in range(1,a-1):\n",
    "    for x in range(0,c):\n",
    "        new_img_left[i,0,x] = gaussian_filter[0,1] * img[i-1,0,x] + gaussian_filter[0,2] * img[i-1,1,x] + gaussian_filter[1,1] * img[i,0,x] + gaussian_filter[1,2] * img[i,1,x] + gaussian_filter[2,1] * img[i+1,0,x] + gaussian_filter[2,2] * img[i+1,1,x]\n",
    "    \n",
    "#오른변       \n",
    "for i in range(1,a-1):\n",
    "    for x in range(0,c):\n",
    "        new_img_right[i,b-1,x]= gaussian_filter[0,0] * img[i-1,b-1,x] + gaussian_filter[0,1] * img[i-1,b-1,x] + gaussian_filter[1,0] * img[i,b-1,x] + gaussian_filter[1,1] * img[i,b-1,x] + gaussian_filter[2,0] * img[i+1, b-1,x] + gaussian_filter[2,1] * img[i+1,b-1,x]\n",
    "        \n",
    "new_img = new_img_mid + new_img_up + new_img_down + new_img_right\n",
    "\n",
    "plt.figure()\n",
    "plt.imshow(new_img)\n",
    "plt.axis('off')\n",
    "plt.show"
   ]
  },
  {
   "cell_type": "code",
   "execution_count": null,
   "metadata": {},
   "outputs": [],
   "source": []
  }
 ],
 "metadata": {
  "kernelspec": {
   "display_name": "Python 3",
   "language": "python",
   "name": "python3"
  },
  "language_info": {
   "codemirror_mode": {
    "name": "ipython",
    "version": 3
   },
   "file_extension": ".py",
   "mimetype": "text/x-python",
   "name": "python",
   "nbconvert_exporter": "python",
   "pygments_lexer": "ipython3",
   "version": "3.6.5"
  }
 },
 "nbformat": 4,
 "nbformat_minor": 2
}
